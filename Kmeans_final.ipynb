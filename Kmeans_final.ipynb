{
 "cells": [
  {
   "cell_type": "markdown",
   "metadata": {},
   "source": [
    "# Unsupervised learning (K-Means algorithm) Using RAPIDS\n",
    "\n",
    "Following is the algorithm\n",
    "\n",
    "Choose K random points as cluster centers or cluster means.\n",
    "For all the N data points: Assign each data point “xi” to one of the K clusters – i.e that cluster whose center is closest to the data point\n",
    "For K clusters repeat\n",
    "            C(i) = arg min ||xi – mk||2, i = 1,….,N\n",
    "\n",
    "Update the cluster center by taking the average of points within cluster.\n",
    "Repeat above two steps until converge or clusters mean doesn’t change."
   ]
  },
  {
   "cell_type": "markdown",
   "metadata": {},
   "source": [
    "# Import packages we need"
   ]
  },
  {
   "cell_type": "code",
   "execution_count": 1,
   "metadata": {},
   "outputs": [],
   "source": [
    "import numpy as np\n",
    "from sklearn.cluster import KMeans\n",
    "import matplotlib.pyplot as plt\n",
    "import random\n",
    "from sklearn.cluster import KMeans\n",
    "import pandas as pd\n",
    "import glob\n",
    "import statistics\n",
    "from sklearn.metrics import pairwise_distances"
   ]
  },
  {
   "cell_type": "markdown",
   "metadata": {},
   "source": [
    "# Data preparation"
   ]
  },
  {
   "cell_type": "markdown",
   "metadata": {},
   "source": [
    "We combine the test and train into one larger dataset. The train should be 60,000 records and the test is 10,000 records so your overall dataset should be 70,000 records.\n",
    "\n",
    "Next step is to break apart the labels and the respective data. Since the pictures are 28x28 (28^2=784) we have 70,000 rows by 785 columns with one being the label (0-9)."
   ]
  },
  {
   "cell_type": "code",
   "execution_count": 3,
   "metadata": {},
   "outputs": [],
   "source": [
    "training_data = pd.read_csv(\"fashion-mnist_train.csv\")"
   ]
  },
  {
   "cell_type": "code",
   "execution_count": 4,
   "metadata": {},
   "outputs": [],
   "source": [
    "test_data = pd.read_csv(\"fashion-mnist_test.csv\")"
   ]
  },
  {
   "cell_type": "markdown",
   "metadata": {},
   "source": [
    "Let us see how many data points are there in each"
   ]
  },
  {
   "cell_type": "code",
   "execution_count": 5,
   "metadata": {},
   "outputs": [
    {
     "name": "stdout",
     "output_type": "stream",
     "text": [
      "60000 rows of data and 785 columns in the training dataset\n",
      "10000 rows of data and 785 columns in the testing dataset\n"
     ]
    }
   ],
   "source": [
    "print(training_data.shape[0],\"rows of data and\",training_data.shape[1],\"columns in the training dataset\")\n",
    "print(test_data.shape[0],\"rows of data and\",test_data.shape[1],\"columns in the testing dataset\")"
   ]
  },
  {
   "cell_type": "markdown",
   "metadata": {},
   "source": [
    "## Since this is unsupervised learning, we don't need a traditional test/train split, we are going to merge the two datasets to get a larger dataset!\n",
    "\n",
    "Combine train/test x data, change this to account for both training and testing"
   ]
  },
  {
   "cell_type": "code",
   "execution_count": 6,
   "metadata": {},
   "outputs": [
    {
     "name": "stdout",
     "output_type": "stream",
     "text": [
      "70000 rows of data and 785 columns in the combined_dataset dataset\n"
     ]
    }
   ],
   "source": [
    "combined_dataset = training_data.append(test_data)\n",
    "\n",
    "print(combined_dataset.shape[0],\"rows of data and\",combined_dataset.shape[1],\"columns in the combined_dataset dataset\")"
   ]
  },
  {
   "cell_type": "code",
   "execution_count": 7,
   "metadata": {},
   "outputs": [
    {
     "name": "stdout",
     "output_type": "stream",
     "text": [
      "labels shape dimension is: (70000, 1)\n",
      "combined dataset without labels dimension is: (70000, 784)\n"
     ]
    }
   ],
   "source": [
    "#Combine train/test y data, change this to account for both training and testing\n",
    "combined_labels = combined_dataset[\"label\"]\n",
    "combined_labels=combined_labels.to_frame(\"labels\")\n",
    "combined_dataset = combined_dataset.drop(['label'], axis=1)\n",
    "\n",
    "print(\"labels shape dimension is:\",combined_labels.shape)\n",
    "print(\"combined dataset without labels dimension is:\",combined_dataset.shape)"
   ]
  },
  {
   "cell_type": "code",
   "execution_count": 8,
   "metadata": {},
   "outputs": [
    {
     "name": "stdout",
     "output_type": "stream",
     "text": [
      "0 corresponds with T-shirt/top\n",
      "1 corresponds with Trouser\n",
      "2 corresponds with Pullover\n",
      "3 corresponds with Dress\n",
      "4 corresponds with Coat\n",
      "5 corresponds with Sandal\n",
      "6 corresponds with Shirt\n",
      "7 corresponds with Sneaker\n",
      "8 corresponds with Bag\n",
      "9 corresponds with Ankle boot\n",
      "----------------------------------------------------------------------------------------------------\n",
      "Leather Jacket was not in dictionary\n"
     ]
    }
   ],
   "source": [
    "#Build dictionary of labels\n",
    "labels_dictionary = {\n",
    " 0: 'T-shirt/top',\n",
    " 1: 'Trouser',\n",
    " 2: 'Pullover',\n",
    " 3: 'Dress',\n",
    " 4: 'Coat',\n",
    " 5: 'Sandal',\n",
    " 6: 'Shirt',\n",
    " 7: 'Sneaker',\n",
    " 8: 'Bag',\n",
    " 9: 'Ankle boot'}\n",
    "\n",
    "#Grab the keys from the dictionary, to print corresponding value call dict[key]\n",
    "for i in labels_dictionary:\n",
    "    print(i,\"corresponds with\",labels_dictionary[i])\n",
    "\n",
    "#We can check if a key is in the dictionary quite easily by using the in operator to test membership\n",
    "#Python has string multiplcation defined, it just concatenates and copies n copies of the string where n is your integer to \n",
    "#multiply by\n",
    "print(\"-\"*100)\n",
    "if \"Leather jacket\" in labels_dictionary:\n",
    "    print(\"Found it!\")\n",
    "else:\n",
    "    print(\"Leather Jacket was not in dictionary\")"
   ]
  },
  {
   "cell_type": "markdown",
   "metadata": {},
   "source": [
    "Lets see what percentage of the dataset corresponds to each article of clothing for each of the labels.  For example if bags had 2000 pictures in the dataset we would say that 2000/70000 ~= 2.85% of the dataset were bags.  Lets print a histogram with your answer."
   ]
  },
  {
   "cell_type": "code",
   "execution_count": 9,
   "metadata": {},
   "outputs": [
    {
     "data": {
      "image/png": "[encoded data removed]",
      "text/plain": [
       "<Figure size 432x288 with 1 Axes>"
      ]
     },
     "metadata": {
      "needs_background": "light"
     },
     "output_type": "display_data"
    }
   ],
   "source": [
    "#Plot a histogram here\n",
    "types_of_clothes = []\n",
    "for x in labels_dictionary :\n",
    "    types_of_clothes.append(labels_dictionary[x])\n",
    "\n",
    "percentages = combined_labels['labels'].value_counts(normalize=True)*100\n",
    "names = list(labels_dictionary.values())\n",
    "plt.bar(names,percentages) #use plt.bar for bar graphs\n",
    "plt.xlabel(\"Articles of Clothing\") #titles are good!\n",
    "plt.ylabel(\"Percentages\") \n",
    "plt.show()\n"
   ]
  },
  {
   "cell_type": "markdown",
   "metadata": {},
   "source": [
    "Let's plot a random image from our data for each of the class labels.  I've setup the code to plot a random image from the overall dataset, you'll need to **randomly** obtain one of each image type."
   ]
  },
  {
   "cell_type": "code",
   "execution_count": 10,
   "metadata": {},
   "outputs": [],
   "source": [
    "def plotImage(data,label,random_number):\n",
    "    print(\"Plotting image at index:\",random_number)\n",
    "    clothing_article_index = label.iloc[random_number][0]\n",
    "    clothing_article = labels_dictionary[clothing_article_index]\n",
    "    print(\"This image is a:\",clothing_article)\n",
    "    #Unncessary if data is properly shaped, but this will handle if it isn't\n",
    "    \n",
    "    image = np.array(data.iloc[random_number])\n",
    "    image_reshaped = image.reshape(28,-1)\n",
    "    \n",
    "    #load image in grayscale (not to be confused with Game of Thrones greyscale)\n",
    "    plt.imshow(image_reshaped,cmap=\"gray\") \n",
    "    plt.show()  # show the window"
   ]
  },
  {
   "cell_type": "code",
   "execution_count": 11,
   "metadata": {},
   "outputs": [
    {
     "name": "stdout",
     "output_type": "stream",
     "text": [
      " Printing randomly selected image\n",
      "Plotting image at index: 16298\n",
      "This image is a: Pullover\n"
     ]
    },
    {
     "data": {
      "image/png": "[encoded data removed]",
      "text/plain": [
       "<Figure size 432x288 with 1 Axes>"
      ]
     },
     "metadata": {
      "needs_background": "light"
     },
     "output_type": "display_data"
    },
    {
     "name": "stdout",
     "output_type": "stream",
     "text": [
      "-------------------------------------------------------------------------------\n",
      " Printing one of each image type  \n",
      "Plotting image at index: 19499\n",
      "This image is a: Sandal\n"
     ]
    },
    {
     "data": {
      "image/png": "[encoded data removed]",
      "text/plain": [
       "<Figure size 432x288 with 1 Axes>"
      ]
     },
     "metadata": {
      "needs_background": "light"
     },
     "output_type": "display_data"
    },
    {
     "name": "stdout",
     "output_type": "stream",
     "text": [
      "Plotting image at index: 60257\n",
      "This image is a: Ankle boot\n"
     ]
    },
    {
     "data": {
      "image/png": "[encoded data removed]",
      "text/plain": [
       "<Figure size 432x288 with 1 Axes>"
      ]
     },
     "metadata": {
      "needs_background": "light"
     },
     "output_type": "display_data"
    },
    {
     "name": "stdout",
     "output_type": "stream",
     "text": [
      "Plotting image at index: 64405\n",
      "This image is a: Dress\n"
     ]
    },
    {
     "data": {
      "image/png": "[encoded data removed]",
      "text/plain": [
       "<Figure size 432x288 with 1 Axes>"
      ]
     },
     "metadata": {
      "needs_background": "light"
     },
     "output_type": "display_data"
    },
    {
     "name": "stdout",
     "output_type": "stream",
     "text": [
      "Plotting image at index: 49125\n",
      "This image is a: Sneaker\n"
     ]
    },
    {
     "data": {
      "image/png": "[encoded data removed]",
      "text/plain": [
       "<Figure size 432x288 with 1 Axes>"
      ]
     },
     "metadata": {
      "needs_background": "light"
     },
     "output_type": "display_data"
    },
    {
     "name": "stdout",
     "output_type": "stream",
     "text": [
      "Plotting image at index: 40195\n",
      "This image is a: Coat\n"
     ]
    },
    {
     "data": {
      "image/png": "[encoded data removed]",
      "text/plain": [
       "<Figure size 432x288 with 1 Axes>"
      ]
     },
     "metadata": {
      "needs_background": "light"
     },
     "output_type": "display_data"
    },
    {
     "name": "stdout",
     "output_type": "stream",
     "text": [
      "Plotting image at index: 48055\n",
      "This image is a: Shirt\n"
     ]
    },
    {
     "data": {
      "image/png": "[encoded data removed]",
      "text/plain": [
       "<Figure size 432x288 with 1 Axes>"
      ]
     },
     "metadata": {
      "needs_background": "light"
     },
     "output_type": "display_data"
    },
    {
     "name": "stdout",
     "output_type": "stream",
     "text": [
      "Plotting image at index: 23454\n",
      "This image is a: T-shirt/top\n"
     ]
    },
    {
     "data": {
      "image/png": "[encoded data removed]",
      "text/plain": [
       "<Figure size 432x288 with 1 Axes>"
      ]
     },
     "metadata": {
      "needs_background": "light"
     },
     "output_type": "display_data"
    },
    {
     "name": "stdout",
     "output_type": "stream",
     "text": [
      "Plotting image at index: 10618\n",
      "This image is a: Trouser\n"
     ]
    },
    {
     "data": {
      "image/png": "[encoded data removed]",
      "text/plain": [
       "<Figure size 432x288 with 1 Axes>"
      ]
     },
     "metadata": {
      "needs_background": "light"
     },
     "output_type": "display_data"
    },
    {
     "name": "stdout",
     "output_type": "stream",
     "text": [
      "Plotting image at index: 54035\n",
      "This image is a: Bag\n"
     ]
    },
    {
     "data": {
      "image/png": "[encoded data removed]",
      "text/plain": [
       "<Figure size 432x288 with 1 Axes>"
      ]
     },
     "metadata": {
      "needs_background": "light"
     },
     "output_type": "display_data"
    }
   ],
   "source": [
    "# Example let's plot a random image\n",
    "\n",
    "#Assign combined_dataset to your data \n",
    "print (\" Printing randomly selected image\")\n",
    "random_index = random.randint(0,len(combined_dataset)-1)\n",
    "type_of_garment_initial = labels_dictionary[combined_labels.iloc[random_index][0]] # first type of garment\n",
    "plotImage(combined_dataset,combined_labels,random_index)\n",
    "\n",
    "\n",
    "print(79*'-')\n",
    "print (\" Printing one of each image type  \")\n",
    "type_of_garment = []\n",
    "selected_garment = []\n",
    "already_picked_garments = [type_of_garment_initial]\n",
    "\n",
    "for i in range(0,100):\n",
    "    random_index = random.randint(0,len(combined_dataset)-1)\n",
    "    selected_garment=labels_dictionary[combined_labels.iloc[random_index][0]]    \n",
    "    if (selected_garment not in  already_picked_garments):\n",
    "        plotImage(combined_dataset,combined_labels,random_index)\n",
    "        already_picked_garments.append(selected_garment)\n",
    "\n"
   ]
  },
  {
   "cell_type": "code",
   "execution_count": null,
   "metadata": {},
   "outputs": [],
   "source": []
  },
  {
   "cell_type": "code",
   "execution_count": null,
   "metadata": {},
   "outputs": [],
   "source": []
  },
  {
   "cell_type": "markdown",
   "metadata": {},
   "source": [
    "Run K-means on your overall data.  Choose ten for your number of clusters."
   ]
  },
  {
   "cell_type": "code",
   "execution_count": 12,
   "metadata": {},
   "outputs": [],
   "source": [
    "num_rows = combined_dataset.shape[0]"
   ]
  },
  {
   "cell_type": "code",
   "execution_count": 13,
   "metadata": {},
   "outputs": [
    {
     "name": "stderr",
     "output_type": "stream",
     "text": [
      "/home/keerthi/anaconda3/envs/rapids_env/lib/python3.8/site-packages/sklearn/cluster/_kmeans.py:932: FutureWarning: 'precompute_distances' was deprecated in version 0.23 and will be removed in 0.25. It has no effect\n",
      "  warnings.warn(\"'precompute_distances' was deprecated in version \"\n",
      "/home/keerthi/anaconda3/envs/rapids_env/lib/python3.8/site-packages/sklearn/cluster/_kmeans.py:938: FutureWarning: 'n_jobs' was deprecated in version 0.23 and will be removed in 0.25.\n",
      "  warnings.warn(\"'n_jobs' was deprecated in version 0.23 and will be\"\n"
     ]
    },
    {
     "name": "stdout",
     "output_type": "stream",
     "text": [
      "CPU times: user 2min 27s, sys: 16.2 s, total: 2min 43s\n",
      "Wall time: 23.4 s\n"
     ]
    }
   ],
   "source": [
    "%%time\n",
    "num_clusters=10\n",
    "#precompute_distances=True\n",
    "k_means = KMeans(n_clusters=num_clusters, n_jobs=-1,random_state=42,precompute_distances=True).fit(combined_dataset)"
   ]
  },
  {
   "cell_type": "markdown",
   "metadata": {},
   "source": [
    "**Plot a histogram of the number of different items associated with each cluster with our 10 clusters (you can label the clusters 0 through 9 we will determine their contents later on!).  We merely want the count of each items within each cluster.  Does this histogram look similar to the original histogram you found for the item counts in the beginning of this assignment?  Why or why not?**"
   ]
  },
  {
   "cell_type": "code",
   "execution_count": 14,
   "metadata": {},
   "outputs": [
    {
     "data": {
      "image/png": "[encoded data removed]",
      "text/plain": [
       "<Figure size 432x288 with 1 Axes>"
      ]
     },
     "metadata": {
      "needs_background": "light"
     },
     "output_type": "display_data"
    }
   ],
   "source": [
    "cluster_labels = k_means.labels_\n",
    "y_kmeans = k_means.predict(combined_dataset)\n",
    "kmeans_centers= k_means.cluster_centers_\n",
    "\n",
    "\n",
    "x_centers_values = kmeans_centers[:,0]\n",
    "y_centers_values = kmeans_centers[:,1]\n",
    "plt.scatter(x_centers_values,y_centers_values,marker='*',s=30,color='red')\n",
    "plt.xlabel(\"Count\")\n",
    "plt.ylabel(\"Percentage of clothing\")\n",
    "plt.title(\"Cluster centers\")\n",
    "plt.show()"
   ]
  },
  {
   "cell_type": "code",
   "execution_count": null,
   "metadata": {},
   "outputs": [],
   "source": []
  },
  {
   "cell_type": "code",
   "execution_count": null,
   "metadata": {},
   "outputs": [],
   "source": []
  }
 ],
 "metadata": {
  "kernelspec": {
   "display_name": "Python 3",
   "language": "python",
   "name": "python3"
  },
  "language_info": {
   "codemirror_mode": {
    "name": "ipython",
    "version": 3
   },
   "file_extension": ".py",
   "mimetype": "text/x-python",
   "name": "python",
   "nbconvert_exporter": "python",
   "pygments_lexer": "ipython3",
   "version": "3.8.6"
  }
 },
 "nbformat": 4,
 "nbformat_minor": 4
}
